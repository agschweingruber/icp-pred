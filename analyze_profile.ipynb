{
 "cells": [
  {
   "cell_type": "code",
   "execution_count": null,
   "id": "0ea55edf-b30b-4b62-b598-c804d0370214",
   "metadata": {},
   "outputs": [],
   "source": [
    "import pstats"
   ]
  },
  {
   "cell_type": "code",
   "execution_count": null,
   "id": "2914b1c0-bb36-493f-849d-da86623455a5",
   "metadata": {},
   "outputs": [],
   "source": [
    "stats = pstats.Stats(\"profiling.txt\")"
   ]
  },
  {
   "cell_type": "code",
   "execution_count": null,
   "id": "23f629c3-8fc0-4640-a883-05a600f6e4a5",
   "metadata": {},
   "outputs": [],
   "source": []
  },
  {
   "cell_type": "code",
   "execution_count": null,
   "id": "dfd6847a-33e7-4d77-9b30-3a6c58922fad",
   "metadata": {},
   "outputs": [],
   "source": [
    "stats.sort_stats(\"cumtime\").print_stats('home/anton/icp_prediction', 20)"
   ]
  },
  {
   "cell_type": "code",
   "execution_count": null,
   "id": "b4a5e184-eb37-49ad-a581-10f14cf4ad69",
   "metadata": {},
   "outputs": [],
   "source": [
    "stats.print_callers(\"/home/anton/icp_prediction/icp_pred/tune_utils.py:59\") "
   ]
  },
  {
   "cell_type": "code",
   "execution_count": null,
   "id": "35ef9d10-d35d-4fc9-b5db-56e6a0bddd0d",
   "metadata": {},
   "outputs": [],
   "source": [
    "stats.print_callees(\"/home/anton/icp_prediction/icp_pred/tune_utils.py:59\") "
   ]
  },
  {
   "cell_type": "code",
   "execution_count": null,
   "id": "30bfd1c1-2205-4ee8-a178-8d5bd4229a64",
   "metadata": {},
   "outputs": [],
   "source": []
  },
  {
   "cell_type": "code",
   "execution_count": null,
   "id": "470b10c2-5b9c-431d-b791-803394002e2a",
   "metadata": {},
   "outputs": [],
   "source": []
  }
 ],
 "metadata": {
  "kernelspec": {
   "display_name": "Python 3 (ipykernel)",
   "language": "python",
   "name": "python3"
  },
  "language_info": {
   "codemirror_mode": {
    "name": "ipython",
    "version": 3
   },
   "file_extension": ".py",
   "mimetype": "text/x-python",
   "name": "python",
   "nbconvert_exporter": "python",
   "pygments_lexer": "ipython3",
   "version": "3.8.10"
  }
 },
 "nbformat": 4,
 "nbformat_minor": 5
}
